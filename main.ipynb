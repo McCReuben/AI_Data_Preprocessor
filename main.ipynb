{
 "cells": [
  {
   "cell_type": "code",
   "execution_count": 1,
   "metadata": {},
   "outputs": [],
   "source": [
    "import pandas as pd\n",
    "import numpy as np\n",
    "import datacleaner as clean\n",
    "import matplotlib.pyplot as plt\n",
    "\n",
    "\n",
    "def main():\n",
    "    pass"
   ]
  },
  {
   "cell_type": "code",
   "execution_count": 4,
   "metadata": {},
   "outputs": [
    {
     "ename": "NameError",
     "evalue": "name 'secrets' is not defined",
     "output_type": "error",
     "traceback": [
      "\u001b[1;31m---------------------------------------------------------------------------\u001b[0m",
      "\u001b[1;31mNameError\u001b[0m                                 Traceback (most recent call last)",
      "\u001b[1;32mc:\\Users\\Ruby\\workspace\\data\\AI_Data_Preprocessor\\main.ipynb Cell 2\u001b[0m in \u001b[0;36m<cell line: 6>\u001b[1;34m()\u001b[0m\n\u001b[0;32m      <a href='vscode-notebook-cell:/c%3A/Users/Ruby/workspace/data/AI_Data_Preprocessor/main.ipynb#W2sZmlsZQ%3D%3D?line=2'>3</a>\u001b[0m \u001b[39mfrom\u001b[39;00m \u001b[39mflask\u001b[39;00m \u001b[39mimport\u001b[39;00m (Flask, flash, redirect, render_template, request, session,\n\u001b[0;32m      <a href='vscode-notebook-cell:/c%3A/Users/Ruby/workspace/data/AI_Data_Preprocessor/main.ipynb#W2sZmlsZQ%3D%3D?line=3'>4</a>\u001b[0m                    url_for)\n\u001b[0;32m      <a href='vscode-notebook-cell:/c%3A/Users/Ruby/workspace/data/AI_Data_Preprocessor/main.ipynb#W2sZmlsZQ%3D%3D?line=4'>5</a>\u001b[0m app \u001b[39m=\u001b[39m Flask(\u001b[39m__name__\u001b[39m)\n\u001b[1;32m----> <a href='vscode-notebook-cell:/c%3A/Users/Ruby/workspace/data/AI_Data_Preprocessor/main.ipynb#W2sZmlsZQ%3D%3D?line=5'>6</a>\u001b[0m app\u001b[39m.\u001b[39msecret_key \u001b[39m=\u001b[39m secrets\u001b[39m.\u001b[39mtoken_hex(\u001b[39m16\u001b[39m)\n\u001b[0;32m      <a href='vscode-notebook-cell:/c%3A/Users/Ruby/workspace/data/AI_Data_Preprocessor/main.ipynb#W2sZmlsZQ%3D%3D?line=8'>9</a>\u001b[0m \u001b[39m@app\u001b[39m\u001b[39m.\u001b[39mroute(\u001b[39m'\u001b[39m\u001b[39m/upload\u001b[39m\u001b[39m'\u001b[39m)\n\u001b[0;32m     <a href='vscode-notebook-cell:/c%3A/Users/Ruby/workspace/data/AI_Data_Preprocessor/main.ipynb#W2sZmlsZQ%3D%3D?line=9'>10</a>\u001b[0m \u001b[39mdef\u001b[39;00m \u001b[39mupload\u001b[39m():\n\u001b[0;32m     <a href='vscode-notebook-cell:/c%3A/Users/Ruby/workspace/data/AI_Data_Preprocessor/main.ipynb#W2sZmlsZQ%3D%3D?line=10'>11</a>\u001b[0m     form \u001b[39m=\u001b[39m DataForm()\n",
      "\u001b[1;31mNameError\u001b[0m: name 'secrets' is not defined"
     ]
    }
   ],
   "source": [
    "from flask_wtf import FlaskForm\n",
    "from wtforms import FileField\n",
    "from flask import (Flask, flash, redirect, render_template, request, session,\n",
    "                   url_for)\n",
    "import secrets\n",
    "\n",
    "app = Flask(__name__)\n",
    "app.secret_key = secrets.token_hex(16)\n",
    "\n",
    "\n",
    "@app.route('/upload')\n",
    "def upload():\n",
    "    form = DataForm()\n",
    "    return render_template('upload.html', form=form)\n",
    "\n",
    "class DataForm(FlaskForm):\n",
    "    data = FileField('Data File')"
   ]
  },
  {
   "cell_type": "code",
   "execution_count": null,
   "metadata": {},
   "outputs": [],
   "source": [
    "@app.route('/preprocess', methods=['POST'])\n",
    "def preprocess():\n",
    "    form = DataForm()\n",
    "    if form.validate_on_submit():\n",
    "        # Get the file from the form\n",
    "        file = request.files['data']\n",
    "        \n",
    "        # Preprocess the file here\n",
    "        # You can use any library or method you like to preprocess the data\n",
    "        \n",
    "        # Return a response to the user\n",
    "        return 'Data preprocessed!'\n",
    "    return 'An error occurred!'\n"
   ]
  }
 ],
 "metadata": {
  "kernelspec": {
   "display_name": "base",
   "language": "python",
   "name": "python3"
  },
  "language_info": {
   "codemirror_mode": {
    "name": "ipython",
    "version": 3
   },
   "file_extension": ".py",
   "mimetype": "text/x-python",
   "name": "python",
   "nbconvert_exporter": "python",
   "pygments_lexer": "ipython3",
   "version": "3.9.12 (main, Apr  4 2022, 05:22:27) [MSC v.1916 64 bit (AMD64)]"
  },
  "orig_nbformat": 4,
  "vscode": {
   "interpreter": {
    "hash": "e246d2215c418239c9316a1ebf2d8abb44dc50b2e5b0e29defd87143398aa387"
   }
  }
 },
 "nbformat": 4,
 "nbformat_minor": 2
}
